{
 "cells": [
  {
   "cell_type": "code",
   "execution_count": 9,
   "metadata": {},
   "outputs": [],
   "source": [
    "import pandas as pd\n",
    "import scanpy as sc\n",
    "from pathlib import Path\n",
    "import numpy as np"
   ]
  },
  {
   "cell_type": "code",
   "execution_count": 3,
   "metadata": {},
   "outputs": [],
   "source": [
    "DATA_DIR=Path(\"../../datasets/sciPlex\")"
   ]
  },
  {
   "cell_type": "code",
   "execution_count": 4,
   "metadata": {},
   "outputs": [],
   "source": [
    "adata_sciplex = sc.read(DATA_DIR/ \"sciplex_complete_middle_subset_lincs_genes.h5ad\")"
   ]
  },
  {
   "cell_type": "code",
   "execution_count": 27,
   "metadata": {},
   "outputs": [],
   "source": [
    "np.random.seed(123)\n",
    "ood_drugs = ['Quisinostat', 'Hesperadin', 'Flavopiridol', 'Belinostat', 'Alvespimycin', 'TAK-901', 'Dacinostat', 'Tanespimycin', 'Givinostat']\n",
    "adata_sciplex_obs = adata_sciplex.obs.copy()\n",
    "ood_df=adata_sciplex_obs.loc[adata_sciplex_obs[\"product_name\"].isin(ood_drugs),:]\n",
    "ind_df=adata_sciplex_obs.loc[~adata_sciplex_obs[\"product_name\"].isin(ood_drugs),:]\n",
    "ood_indices=ood_df.index\n",
    "train_test_indices=ind_df.index\n",
    "test_indices=ind_df.sample(n=2*len(ood_indices)).index\n",
    "\n",
    "adata_sciplex_obs[\"split_ood_multi_task\"]=None\n",
    "adata_sciplex_obs.loc[ood_indices,\"split_ood_multi_task\"]=\"ood\"\n",
    "adata_sciplex_obs.loc[train_test_indices,\"split_ood_multi_task\"]=\"train\"\n",
    "adata_sciplex_obs.loc[test_indices,\"split_ood_multi_task\"]=\"test\"\n",
    "\n",
    "adata_sciplex.obs = adata_sciplex_obs"
   ]
  },
  {
   "cell_type": "code",
   "execution_count": 28,
   "metadata": {},
   "outputs": [],
   "source": [
    "adata_sciplex = sc.write(DATA_DIR/ \"sciplex_complete_middle_subset_lincs_genes.split_ood_multi_task.h5ad\",adata_sciplex)"
   ]
  },
  {
   "cell_type": "code",
   "execution_count": 29,
   "metadata": {},
   "outputs": [
    {
     "data": {
      "text/plain": [
       "PosixPath('../../datasets/sciPlex/sciplex_complete_middle_subset_lincs_genes.split_ood_multi_task.h5ad')"
      ]
     },
     "execution_count": 29,
     "metadata": {},
     "output_type": "execute_result"
    }
   ],
   "source": [
    "DATA_DIR/ \"sciplex_complete_middle_subset_lincs_genes.split_ood_multi_task.h5ad\""
   ]
  }
 ],
 "metadata": {
  "kernelspec": {
   "display_name": "diffusers",
   "language": "python",
   "name": "python3"
  },
  "language_info": {
   "codemirror_mode": {
    "name": "ipython",
    "version": 3
   },
   "file_extension": ".py",
   "mimetype": "text/x-python",
   "name": "python",
   "nbconvert_exporter": "python",
   "pygments_lexer": "ipython3",
   "version": "3.10.10"
  },
  "orig_nbformat": 4
 },
 "nbformat": 4,
 "nbformat_minor": 2
}
